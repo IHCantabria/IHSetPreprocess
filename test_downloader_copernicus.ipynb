{
 "cells": [
  {
   "cell_type": "code",
   "execution_count": 1,
   "metadata": {},
   "outputs": [],
   "source": [
    "import xarray as xr\n",
    "from pydap.cas.get_cookies import setup_session\n",
    "from pydap.client import open_url\n",
    "from datetime import datetime\n",
    "import numpy as np\n",
    "import pandas as pd\n",
    "import matplotlib.pyplot as plt\n",
    "\n",
    "import copernicusmarine as cm"
   ]
  },
  {
   "cell_type": "code",
   "execution_count": null,
   "metadata": {},
   "outputs": [],
   "source": [
    "catalogue = cm.describe()"
   ]
  },
  {
   "cell_type": "code",
   "execution_count": null,
   "metadata": {},
   "outputs": [],
   "source": [
    "for _ in catalogue['products']:\n",
    "    print(_['title'])\n",
    "\n",
    "\n",
    "for _ in catalogue['products']:\n",
    "    for __ in _['datasets']:\n",
    "        print(__['dataset_name'])\n"
   ]
  },
  {
   "cell_type": "code",
   "execution_count": 3,
   "metadata": {},
   "outputs": [],
   "source": [
    "url = \"https://my.cmems-du.eu/thredds/dodsC/cmems_mod_ibi_wav_my_0.05deg-2D_PT1H-i\"\n",
    "username = \"lucas.defreitas@unican.es\"\n",
    "password = \"Gremio1903$\""
   ]
  },
  {
   "cell_type": "code",
   "execution_count": null,
   "metadata": {},
   "outputs": [],
   "source": [
    "print('Iniciando sesión')\n",
    "cas_url = \"https://cmems-cas.cls.fr/cas/login\"\n",
    "session = setup_session(cas_url, username, password)"
   ]
  },
  {
   "cell_type": "code",
   "execution_count": null,
   "metadata": {},
   "outputs": [],
   "source": [
    "cm.subset(\n",
    "  dataset_id=\"cmems_mod_glo_wav_my_0.2deg_PT3H-i\",\n",
    "  variables=[\"VHM0\", \"VMDR\", \"VTM10\", \"VTPK\", \"VTM02\"],\n",
    "  minimum_longitude=-3.7605140771133567,\n",
    "  maximum_longitude=-3.7605140771133567,\n",
    "  minimum_latitude=43.51312357060054,\n",
    "  maximum_latitude=43.51312357060054,\n",
    "  start_datetime=\"1993-01-01T00:00:00\",\n",
    "  end_datetime=\"2023-04-30T21:00:00\",\n",
    ")"
   ]
  },
  {
   "cell_type": "code",
   "execution_count": null,
   "metadata": {},
   "outputs": [],
   "source": [
    "data_store = xr.backends.PydapDataStore(open_url(url, session=session))\n",
    "ds = xr.open_dataset(data_store)"
   ]
  }
 ],
 "metadata": {
  "kernelspec": {
   "display_name": "IHSet_Py",
   "language": "python",
   "name": "python3"
  },
  "language_info": {
   "codemirror_mode": {
    "name": "ipython",
    "version": 3
   },
   "file_extension": ".py",
   "mimetype": "text/x-python",
   "name": "python",
   "nbconvert_exporter": "python",
   "pygments_lexer": "ipython3",
   "version": "3.10.13"
  }
 },
 "nbformat": 4,
 "nbformat_minor": 2
}
